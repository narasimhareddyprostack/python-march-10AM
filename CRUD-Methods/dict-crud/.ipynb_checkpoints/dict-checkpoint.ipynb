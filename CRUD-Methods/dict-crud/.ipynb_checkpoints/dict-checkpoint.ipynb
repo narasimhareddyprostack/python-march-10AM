{
 "cells": [
  {
   "cell_type": "code",
   "execution_count": 2,
   "id": "eaba2ea8-8f10-4a52-8984-d122be04ae4d",
   "metadata": {},
   "outputs": [
    {
     "name": "stdout",
     "output_type": "stream",
     "text": [
      "{'eid': 101, 'ename': 'Rahul', 'esal': 45000.45, 'loc': 'Wayanad'}\n",
      "101\n",
      "Rahul\n",
      "45000.45\n",
      "Wayanad\n"
     ]
    },
    {
     "ename": "KeyError",
     "evalue": "'email'",
     "output_type": "error",
     "traceback": [
      "\u001b[1;31m------------------------------------------------------------------------\u001b[0m",
      "\u001b[1;31mKeyError\u001b[0m                               Traceback (most recent call last)",
      "Cell \u001b[1;32mIn[2], line 14\u001b[0m\n\u001b[0;32m     12\u001b[0m \u001b[38;5;28mprint\u001b[39m(emp[\u001b[38;5;124m'\u001b[39m\u001b[38;5;124mesal\u001b[39m\u001b[38;5;124m'\u001b[39m])\n\u001b[0;32m     13\u001b[0m \u001b[38;5;28mprint\u001b[39m(emp[\u001b[38;5;124m'\u001b[39m\u001b[38;5;124mloc\u001b[39m\u001b[38;5;124m'\u001b[39m])\n\u001b[1;32m---> 14\u001b[0m \u001b[38;5;28mprint\u001b[39m(\u001b[43memp\u001b[49m\u001b[43m[\u001b[49m\u001b[38;5;124;43m'\u001b[39;49m\u001b[38;5;124;43memail\u001b[39;49m\u001b[38;5;124;43m'\u001b[39;49m\u001b[43m]\u001b[49m) \u001b[38;5;66;03m#\u001b[39;00m\n",
      "\u001b[1;31mKeyError\u001b[0m: 'email'"
     ]
    }
   ],
   "source": [
    "emp={\n",
    "    'eid':101,\n",
    "    'ename':'Rahul',\n",
    "    'esal':45000.45,\n",
    "    'loc':'Wayanad'\n",
    "}\n",
    "#read operation\n",
    "print(emp)\n",
    "#read dict value\n",
    "print(emp['eid'])\n",
    "print(emp['ename'])\n",
    "print(emp['esal'])\n",
    "print(emp['loc'])\n",
    "print(emp['email']) #"
   ]
  },
  {
   "cell_type": "code",
   "execution_count": 4,
   "id": "fc16284a-f0ca-4e02-9880-5fdb7d5d74ac",
   "metadata": {},
   "outputs": [
    {
     "name": "stdout",
     "output_type": "stream",
     "text": [
      "eid\n",
      "ename\n",
      "esal\n",
      "loc\n",
      "101\n",
      "Rahul\n",
      "45000.45\n",
      "Wayanad\n"
     ]
    }
   ],
   "source": [
    "emp={\n",
    "    'eid':101,\n",
    "    'ename':'Rahul',\n",
    "    'esal':45000.45,\n",
    "    'loc':'Wayanad'\n",
    "}\n",
    "#print all keys\n",
    "for key in emp.keys():\n",
    "    print(key)\n",
    "#print all valeus\n",
    "for value in emp.values():\n",
    "    print(value)"
   ]
  },
  {
   "cell_type": "code",
   "execution_count": 5,
   "id": "e0cd0c91-3a10-41e0-b305-e1afe48ffc2a",
   "metadata": {},
   "outputs": [
    {
     "name": "stdout",
     "output_type": "stream",
     "text": [
      "('eid', 101)\n",
      "('ename', 'Rahul')\n",
      "('esal', 45000.45)\n",
      "('loc', 'Wayanad')\n"
     ]
    }
   ],
   "source": [
    "emp={\n",
    "    'eid':101,\n",
    "    'ename':'Rahul',\n",
    "    'esal':45000.45,\n",
    "    'loc':'Wayanad'\n",
    "}\n",
    "#print all items\n",
    "for item in emp.items():\n",
    "    print(item)"
   ]
  },
  {
   "cell_type": "code",
   "execution_count": 6,
   "id": "a610ba0c-8f9f-4bfc-900c-cd02dc4a84fe",
   "metadata": {},
   "outputs": [
    {
     "name": "stdout",
     "output_type": "stream",
     "text": [
      "dict_keys(['eid', 'ename', 'esal', 'loc'])\n",
      "dict_values([101, 'Rahul', 45000.45, 'Wayanad'])\n",
      "dict_items([('eid', 101), ('ename', 'Rahul'), ('esal', 45000.45), ('loc', 'Wayanad')])\n"
     ]
    }
   ],
   "source": [
    "emp={\n",
    "    'eid':101,\n",
    "    'ename':'Rahul',\n",
    "    'esal':45000.45,\n",
    "    'loc':'Wayanad'\n",
    "}\n",
    "print(emp.keys())\n",
    "print(emp.values())\n",
    "print(emp.items())"
   ]
  },
  {
   "cell_type": "code",
   "execution_count": null,
   "id": "06514acb-4ccc-49af-8697-5f873ad4fef1",
   "metadata": {},
   "outputs": [],
   "source": []
  }
 ],
 "metadata": {
  "kernelspec": {
   "display_name": "Python 3 (ipykernel)",
   "language": "python",
   "name": "python3"
  },
  "language_info": {
   "codemirror_mode": {
    "name": "ipython",
    "version": 3
   },
   "file_extension": ".py",
   "mimetype": "text/x-python",
   "name": "python",
   "nbconvert_exporter": "python",
   "pygments_lexer": "ipython3",
   "version": "3.12.2"
  }
 },
 "nbformat": 4,
 "nbformat_minor": 5
}
